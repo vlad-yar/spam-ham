{
 "cells": [
  {
   "cell_type": "markdown",
   "id": "ca10d78a-fb93-4a8c-a5ca-04e800ba36d0",
   "metadata": {},
   "source": [
    "# Рабочая тетрадь "
   ]
  },
  {
   "cell_type": "markdown",
   "id": "ac8b1ea5-a6e4-4a63-bde6-7ebf52cb2cbc",
   "metadata": {},
   "source": [
    "### Определение статуса сообщения (спам/обычное)"
   ]
  },
  {
   "cell_type": "code",
   "execution_count": 19,
   "id": "59f427e3-1e82-4de5-b013-f6cfac37d8ce",
   "metadata": {},
   "outputs": [
    {
     "name": "stderr",
     "output_type": "stream",
     "text": [
      "[nltk_data] Downloading package wordnet to /home/user/nltk_data...\n",
      "[nltk_data]   Package wordnet is already up-to-date!\n"
     ]
    },
    {
     "data": {
      "text/plain": [
       "True"
      ]
     },
     "execution_count": 19,
     "metadata": {},
     "output_type": "execute_result"
    }
   ],
   "source": [
    "# Импорт библиотек\n",
    "import warnings\n",
    "warnings.filterwarnings('ignore') # будем игнорировать предупреждения\n",
    "import pandas as pd\n",
    "import numpy as np\n",
    "import matplotlib.pyplot as plt \n",
    "import seaborn as sns\n",
    "from sklearn.model_selection import train_test_split\n",
    "from sklearn.ensemble import GradientBoostingClassifier\n",
    "from sklearn.model_selection import GridSearchCV\n",
    "from sklearn.feature_extraction.text import CountVectorizer, TfidfVectorizer\n",
    "from nltk.corpus import stopwords as sw\n",
    "import re\n",
    "import string\n",
    "import nltk\n",
    "nltk.download('wordnet')"
   ]
  },
  {
   "cell_type": "code",
   "execution_count": 20,
   "id": "babc40d8-3ddc-4671-8d10-102da8d319bb",
   "metadata": {},
   "outputs": [],
   "source": [
    "data = pd.read_csv('train_spam.csv')\n",
    "pd.set_option('display.max_colwidth', 120)"
   ]
  },
  {
   "cell_type": "code",
   "execution_count": 21,
   "id": "d0fffe22-7628-46ff-b59a-1c689ad6a7bb",
   "metadata": {},
   "outputs": [
    {
     "data": {
      "text/html": [
       "<div>\n",
       "<style scoped>\n",
       "    .dataframe tbody tr th:only-of-type {\n",
       "        vertical-align: middle;\n",
       "    }\n",
       "\n",
       "    .dataframe tbody tr th {\n",
       "        vertical-align: top;\n",
       "    }\n",
       "\n",
       "    .dataframe thead th {\n",
       "        text-align: right;\n",
       "    }\n",
       "</style>\n",
       "<table border=\"1\" class=\"dataframe\">\n",
       "  <thead>\n",
       "    <tr style=\"text-align: right;\">\n",
       "      <th></th>\n",
       "      <th>text_type</th>\n",
       "      <th>text</th>\n",
       "    </tr>\n",
       "  </thead>\n",
       "  <tbody>\n",
       "    <tr>\n",
       "      <th>0</th>\n",
       "      <td>ham</td>\n",
       "      <td>make sure alex knows his birthday is over in fifteen minutes as far as youre concerned</td>\n",
       "    </tr>\n",
       "    <tr>\n",
       "      <th>1</th>\n",
       "      <td>ham</td>\n",
       "      <td>a resume for john lavorato thanks vince i will get moving on it right away molly vince j kaminski 02 21 2001 05 55 p...</td>\n",
       "    </tr>\n",
       "    <tr>\n",
       "      <th>2</th>\n",
       "      <td>spam</td>\n",
       "      <td>plzz visit my website moviesgodml to get all movies for free and also i provide direct download links no redirect an...</td>\n",
       "    </tr>\n",
       "    <tr>\n",
       "      <th>3</th>\n",
       "      <td>spam</td>\n",
       "      <td>urgent your mobile number has been awarded with a £2000 prize guaranteed call 09061790121 from land line claim 3030 ...</td>\n",
       "    </tr>\n",
       "    <tr>\n",
       "      <th>4</th>\n",
       "      <td>ham</td>\n",
       "      <td>overview of hr associates analyst project per david s request attached is an overview of the hr associates analysts ...</td>\n",
       "    </tr>\n",
       "  </tbody>\n",
       "</table>\n",
       "</div>"
      ],
      "text/plain": [
       "  text_type  \\\n",
       "0       ham   \n",
       "1       ham   \n",
       "2      spam   \n",
       "3      spam   \n",
       "4       ham   \n",
       "\n",
       "                                                                                                                      text  \n",
       "0                                   make sure alex knows his birthday is over in fifteen minutes as far as youre concerned  \n",
       "1  a resume for john lavorato thanks vince i will get moving on it right away molly vince j kaminski 02 21 2001 05 55 p...  \n",
       "2  plzz visit my website moviesgodml to get all movies for free and also i provide direct download links no redirect an...  \n",
       "3  urgent your mobile number has been awarded with a £2000 prize guaranteed call 09061790121 from land line claim 3030 ...  \n",
       "4  overview of hr associates analyst project per david s request attached is an overview of the hr associates analysts ...  "
      ]
     },
     "execution_count": 21,
     "metadata": {},
     "output_type": "execute_result"
    }
   ],
   "source": [
    "data.head()"
   ]
  },
  {
   "cell_type": "code",
   "execution_count": 22,
   "id": "19872528-0555-498c-901a-c7a5bcd09b1b",
   "metadata": {},
   "outputs": [
    {
     "name": "stdout",
     "output_type": "stream",
     "text": [
      "<class 'pandas.core.frame.DataFrame'>\n",
      "RangeIndex: 16278 entries, 0 to 16277\n",
      "Data columns (total 2 columns):\n",
      " #   Column     Non-Null Count  Dtype \n",
      "---  ------     --------------  ----- \n",
      " 0   text_type  16278 non-null  object\n",
      " 1   text       16278 non-null  object\n",
      "dtypes: object(2)\n",
      "memory usage: 254.5+ KB\n"
     ]
    }
   ],
   "source": [
    "data.info()"
   ]
  },
  {
   "cell_type": "code",
   "execution_count": 23,
   "id": "54953f6b-bae7-4fe5-8828-e6a36edba54e",
   "metadata": {},
   "outputs": [
    {
     "data": {
      "text/plain": [
       "text_type    0\n",
       "text         0\n",
       "dtype: int64"
      ]
     },
     "execution_count": 23,
     "metadata": {},
     "output_type": "execute_result"
    }
   ],
   "source": [
    "data.isna().sum() # выведем количество пропущенных"
   ]
  },
  {
   "cell_type": "code",
   "execution_count": 24,
   "id": "d90de154-3cf5-4c01-9509-59c63347d3aa",
   "metadata": {},
   "outputs": [
    {
     "data": {
      "image/png": "[encoded data removed]",
      "text/plain": [
       "<Figure size 640x480 with 1 Axes>"
      ]
     },
     "metadata": {},
     "output_type": "display_data"
    }
   ],
   "source": [
    "sns.histplot(data=data, x=data['text_type'], color='red');"
   ]
  },
  {
   "cell_type": "code",
   "execution_count": 25,
   "id": "ed680cf8-fd25-4974-95e3-8e2c7f2fe70b",
   "metadata": {},
   "outputs": [],
   "source": [
    "data['count_punct'] = data['text'].apply(lambda x: np.sum([1 for i in x if i in string.punctuation]))\n",
    "\n",
    "pattern = '[0-9!#$%&()*+,./:;<=>?@[\\]^_`{|}~—/\"/\\-№]+'\n",
    "\n",
    "def processing(text):\n",
    "    '''\n",
    "    Обработаем текст сообщений\n",
    "    '''\n",
    "    text = text.lower()\n",
    "    #ps = nltk.PorterStemmer()\n",
    "    #text = ps.stem(text)\n",
    "\n",
    "    #wl = nltk.WordNetLemmatizer()\n",
    "    #text = wl.lemmatize(text)\n",
    "    text = re.sub(pattern, ' ', text)\n",
    "    \n",
    "    return text\n",
    "\n",
    "data['text'] = data['text'].apply(lambda x: processing(x))\n",
    "data['len_text'] = data['text'].apply(lambda x: len(x) - x.count(' '))"
   ]
  },
  {
   "cell_type": "code",
   "execution_count": 26,
   "id": "ea89bf2a-c451-4655-aa5a-558fac09586c",
   "metadata": {},
   "outputs": [
    {
     "data": {
      "image/png": "[encoded data removed]",
      "text/plain": [
       "<Figure size 640x480 with 1 Axes>"
      ]
     },
     "metadata": {},
     "output_type": "display_data"
    }
   ],
   "source": [
    "sns.histplot(data=data, x='len_text', hue='text_type', bins=40);\n",
    "plt.xlim(0, 600);"
   ]
  },
  {
   "cell_type": "code",
   "execution_count": 9,
   "id": "d1e420ee-3a24-4a63-853c-734bdd88f6c2",
   "metadata": {},
   "outputs": [
    {
     "data": {
      "image/png": "[encoded data removed]",
      "text/plain": [
       "<Figure size 640x480 with 1 Axes>"
      ]
     },
     "metadata": {},
     "output_type": "display_data"
    }
   ],
   "source": [
    "sns.histplot(data=data, x='count_punct', hue='text_type', bins=37);\n",
    "plt.xlim(0, 15);"
   ]
  },
  {
   "cell_type": "code",
   "execution_count": 27,
   "id": "e2d86d70-eea6-4015-837b-a0f51bfcff49",
   "metadata": {},
   "outputs": [
    {
     "data": {
      "text/html": [
       "<div>\n",
       "<style scoped>\n",
       "    .dataframe tbody tr th:only-of-type {\n",
       "        vertical-align: middle;\n",
       "    }\n",
       "\n",
       "    .dataframe tbody tr th {\n",
       "        vertical-align: top;\n",
       "    }\n",
       "\n",
       "    .dataframe thead th {\n",
       "        text-align: right;\n",
       "    }\n",
       "</style>\n",
       "<table border=\"1\" class=\"dataframe\">\n",
       "  <thead>\n",
       "    <tr style=\"text-align: right;\">\n",
       "      <th></th>\n",
       "      <th>text_type</th>\n",
       "      <th>text</th>\n",
       "      <th>len_text</th>\n",
       "    </tr>\n",
       "  </thead>\n",
       "  <tbody>\n",
       "    <tr>\n",
       "      <th>0</th>\n",
       "      <td>ham</td>\n",
       "      <td>make sure alex knows his birthday is over in fifteen minutes as far as youre concerned</td>\n",
       "      <td>-0.754359</td>\n",
       "    </tr>\n",
       "    <tr>\n",
       "      <th>1</th>\n",
       "      <td>ham</td>\n",
       "      <td>a resume for john lavorato thanks vince i will get moving on it right away molly vince j kaminski           pm to mo...</td>\n",
       "      <td>0.762681</td>\n",
       "    </tr>\n",
       "    <tr>\n",
       "      <th>2</th>\n",
       "      <td>spam</td>\n",
       "      <td>plzz visit my website moviesgodml to get all movies for free and also i provide direct download links no redirect an...</td>\n",
       "      <td>-0.603099</td>\n",
       "    </tr>\n",
       "    <tr>\n",
       "      <th>3</th>\n",
       "      <td>spam</td>\n",
       "      <td>urgent your mobile number has been awarded with a £  prize guaranteed call   from land line claim   valid  hrs only ...</td>\n",
       "      <td>-0.656485</td>\n",
       "    </tr>\n",
       "    <tr>\n",
       "      <th>4</th>\n",
       "      <td>ham</td>\n",
       "      <td>overview of hr associates analyst project per david s request attached is an overview of the hr associates analysts ...</td>\n",
       "      <td>1.576811</td>\n",
       "    </tr>\n",
       "  </tbody>\n",
       "</table>\n",
       "</div>"
      ],
      "text/plain": [
       "  text_type  \\\n",
       "0       ham   \n",
       "1       ham   \n",
       "2      spam   \n",
       "3      spam   \n",
       "4       ham   \n",
       "\n",
       "                                                                                                                      text  \\\n",
       "0                                   make sure alex knows his birthday is over in fifteen minutes as far as youre concerned   \n",
       "1  a resume for john lavorato thanks vince i will get moving on it right away molly vince j kaminski           pm to mo...   \n",
       "2  plzz visit my website moviesgodml to get all movies for free and also i provide direct download links no redirect an...   \n",
       "3  urgent your mobile number has been awarded with a £  prize guaranteed call   from land line claim   valid  hrs only ...   \n",
       "4  overview of hr associates analyst project per david s request attached is an overview of the hr associates analysts ...   \n",
       "\n",
       "   len_text  \n",
       "0 -0.754359  \n",
       "1  0.762681  \n",
       "2 -0.603099  \n",
       "3 -0.656485  \n",
       "4  1.576811  "
      ]
     },
     "execution_count": 27,
     "metadata": {},
     "output_type": "execute_result"
    }
   ],
   "source": [
    "# Видим, что есть различия в длине сообщения; в количестве знаков препинания различия не ощущаются\n",
    "# удалим столбец count_punct, стандартизируем значения len_text\n",
    "from sklearn.preprocessing import StandardScaler\n",
    "scaler = StandardScaler()\n",
    "data['len_text'] = scaler.fit_transform(pd.DataFrame(data['len_text']))\n",
    "data = data.drop(['count_punct'], axis = 1)\n",
    "data.head()"
   ]
  },
  {
   "cell_type": "code",
   "execution_count": 31,
   "id": "42aa211f-f592-40bc-b633-ccb00ed3078c",
   "metadata": {},
   "outputs": [],
   "source": [
    "X_train, X_test, y_train, y_test = train_test_split(data[['text', ], \n",
    "                                                    data['text_type'], \n",
    "                                                    random_state=1, \n",
    "                                                    stratify=data['text_type'], \n",
    "                                                    test_size=0.3)"
   ]
  },
  {
   "cell_type": "code",
   "execution_count": 28,
   "id": "af614215-da82-4ffa-8432-ef2602d640dd",
   "metadata": {},
   "outputs": [],
   "source": [
    "stop_words = sw.words('english')\n",
    "tv_model = TfidfVectorizer(stop_words=stop_words, binary=True)"
   ]
  },
  {
   "cell_type": "code",
   "execution_count": 29,
   "id": "c5fd71cd-8b99-4835-8d7c-e5170f3f1cc2",
   "metadata": {},
   "outputs": [
    {
     "data": {
      "text/plain": [
       "<16278x48150 sparse matrix of type '<class 'numpy.float64'>'\n",
       "\twith 422652 stored elements in Compressed Sparse Row format>"
      ]
     },
     "execution_count": 29,
     "metadata": {},
     "output_type": "execute_result"
    }
   ],
   "source": [
    "X_tv = tv_model.fit_transform(data['text'])\n",
    "X_tv"
   ]
  },
  {
   "cell_type": "code",
   "execution_count": 14,
   "id": "b1ec6b76-e9d4-4267-a4b1-c67ff9904bf4",
   "metadata": {},
   "outputs": [],
   "source": [
    "X_features = pd.concat([data['len_text'], pd.DataFrame(X_tv.toarray())], axis=1)\n",
    "X_features.columns = X_features.columns.astype(str)"
   ]
  },
  {
   "cell_type": "code",
   "execution_count": 15,
   "id": "7f97a7e3-fec8-48cc-b068-ca0440f6570d",
   "metadata": {},
   "outputs": [],
   "source": [
    "# Будем использовать алгоритм случайного леса \n",
    "# Т.к. данный алгоритм определяет высокую точность и устойчив к переобучению\n",
    "from sklearn.ensemble import RandomForestClassifier\n",
    "rf_model = RandomForestClassifier()\n",
    "rf_model.fit(X_features, data['text_type'])\n",
    "preds = rf_model.predict"
   ]
  },
  {
   "cell_type": "code",
   "execution_count": 16,
   "id": "f85d4099-ce0f-4284-9727-45611f15acf3",
   "metadata": {},
   "outputs": [
    {
     "name": "stdout",
     "output_type": "stream",
     "text": [
      "Mean cross-validation accuracy:  0.8025744843391903\n"
     ]
    }
   ],
   "source": [
    "from sklearn.model_selection import KFold, cross_val_score\n",
    "k_fold = KFold(n_splits=5)\n",
    "scores = []\n",
    "for i in range(0, len(X_features), 1000):\n",
    "    X_subset = X_features[i:i+1000]\n",
    "    y_subset = data['text_type'][i:i+1000]\n",
    "    score = cross_val_score(rf_model,\n",
    "                            X_subset,\n",
    "                            y_subset,\n",
    "                            cv=k_fold,\n",
    "                            scoring='accuracy',\n",
    "                            n_jobs=1)\n",
    "    scores.append(score)\n",
    "print(\"Mean cross-validation accuracy: \", np.mean(scores))"
   ]
  },
  {
   "cell_type": "code",
   "execution_count": 17,
   "id": "2802ae0f-32ea-4aea-8125-e3bd64c6ed77",
   "metadata": {},
   "outputs": [
    {
     "data": {
      "text/plain": [
       "[array([0.845, 0.81 , 0.775, 0.77 , 0.775]),\n",
       " array([0.76 , 0.845, 0.88 , 0.8  , 0.815]),\n",
       " array([0.84 , 0.79 , 0.79 , 0.885, 0.795]),\n",
       " array([0.805, 0.8  , 0.74 , 0.775, 0.845]),\n",
       " array([0.8  , 0.83 , 0.77 , 0.785, 0.87 ]),\n",
       " array([0.815, 0.825, 0.775, 0.865, 0.825]),\n",
       " array([0.835, 0.805, 0.825, 0.76 , 0.795]),\n",
       " array([0.835, 0.81 , 0.825, 0.765, 0.86 ]),\n",
       " array([0.805, 0.825, 0.84 , 0.775, 0.765]),\n",
       " array([0.835, 0.77 , 0.81 , 0.845, 0.785]),\n",
       " array([0.81 , 0.805, 0.75 , 0.76 , 0.795]),\n",
       " array([0.79 , 0.865, 0.825, 0.83 , 0.81 ]),\n",
       " array([0.82 , 0.775, 0.805, 0.82 , 0.825]),\n",
       " array([0.805, 0.77 , 0.85 , 0.83 , 0.84 ]),\n",
       " array([0.83 , 0.825, 0.765, 0.83 , 0.78 ]),\n",
       " array([0.8  , 0.795, 0.79 , 0.825, 0.785]),\n",
       " array([0.60714286, 0.83928571, 0.64285714, 0.76363636, 0.69090909])]"
      ]
     },
     "execution_count": 17,
     "metadata": {},
     "output_type": "execute_result"
    }
   ],
   "source": [
    "scores"
   ]
  },
  {
   "cell_type": "code",
   "execution_count": 18,
   "id": "84b20445-28c2-4f45-862f-494d8dc0b6cf",
   "metadata": {},
   "outputs": [
    {
     "data": {
      "text/plain": [
       "array(['aa', 'aaa', 'aaaajaaaaooo', ..., '𝟸𝟶𝟶𝟶', '𝟸𝟺𝚑𝚘𝚞𝚛𝚜', '𝟻𝟶𝟶𝟶'],\n",
       "      dtype=object)"
      ]
     },
     "execution_count": 18,
     "metadata": {},
     "output_type": "execute_result"
    }
   ],
   "source": [
    "tv_model.get_feature_names_out()"
   ]
  },
  {
   "cell_type": "code",
   "execution_count": null,
   "id": "81c2d2d2-124b-46c0-9db9-82cf14cfb516",
   "metadata": {},
   "outputs": [],
   "source": []
  }
 ],
 "metadata": {
  "kernelspec": {
   "display_name": "Python 3 (ipykernel)",
   "language": "python",
   "name": "python3"
  },
  "language_info": {
   "codemirror_mode": {
    "name": "ipython",
    "version": 3
   },
   "file_extension": ".py",
   "mimetype": "text/x-python",
   "name": "python",
   "nbconvert_exporter": "python",
   "pygments_lexer": "ipython3",
   "version": "3.10.12"
  }
 },
 "nbformat": 4,
 "nbformat_minor": 5
}
