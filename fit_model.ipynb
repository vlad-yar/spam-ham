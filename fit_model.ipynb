{
 "cells": [
  {
   "cell_type": "markdown",
   "id": "ca10d78a-fb93-4a8c-a5ca-04e800ba36d0",
   "metadata": {},
   "source": [
    "# Рабочая тетрадь "
   ]
  },
  {
   "cell_type": "markdown",
   "id": "ac8b1ea5-a6e4-4a63-bde6-7ebf52cb2cbc",
   "metadata": {},
   "source": [
    "### Определение статуса сообщения (спам/обычное)"
   ]
  },
  {
   "cell_type": "code",
   "execution_count": 17,
   "id": "59f427e3-1e82-4de5-b013-f6cfac37d8ce",
   "metadata": {},
   "outputs": [
    {
     "name": "stderr",
     "output_type": "stream",
     "text": [
      "[nltk_data] Downloading package wordnet to /home/user/nltk_data...\n",
      "[nltk_data]   Package wordnet is already up-to-date!\n"
     ]
    },
    {
     "data": {
      "text/plain": [
       "True"
      ]
     },
     "execution_count": 17,
     "metadata": {},
     "output_type": "execute_result"
    }
   ],
   "source": [
    "# Импорт библиотек\n",
    "import warnings\n",
    "warnings.filterwarnings('ignore') # будем игнорировать предупреждения\n",
    "import pandas as pd\n",
    "import numpy as np\n",
    "import matplotlib.pyplot as plt \n",
    "import seaborn as sns\n",
    "from sklearn.model_selection import train_test_split\n",
    "from sklearn.ensemble import GradientBoostingClassifier\n",
    "from sklearn.model_selection import GridSearchCV\n",
    "from sklearn.feature_extraction.text import CountVectorizer, TfidfVectorizer\n",
    "from nltk.corpus import stopwords as sw\n",
    "import re\n",
    "import string\n",
    "import nltk\n",
    "nltk.download('wordnet')"
   ]
  },
  {
   "cell_type": "code",
   "execution_count": 56,
   "id": "babc40d8-3ddc-4671-8d10-102da8d319bb",
   "metadata": {},
   "outputs": [],
   "source": [
    "data = pd.read_csv('train_spam.csv')\n",
    "pd.set_option('display.max_colwidth', 120)"
   ]
  },
  {
   "cell_type": "code",
   "execution_count": 3,
   "id": "d0fffe22-7628-46ff-b59a-1c689ad6a7bb",
   "metadata": {},
   "outputs": [
    {
     "data": {
      "text/html": [
       "<div>\n",
       "<style scoped>\n",
       "    .dataframe tbody tr th:only-of-type {\n",
       "        vertical-align: middle;\n",
       "    }\n",
       "\n",
       "    .dataframe tbody tr th {\n",
       "        vertical-align: top;\n",
       "    }\n",
       "\n",
       "    .dataframe thead th {\n",
       "        text-align: right;\n",
       "    }\n",
       "</style>\n",
       "<table border=\"1\" class=\"dataframe\">\n",
       "  <thead>\n",
       "    <tr style=\"text-align: right;\">\n",
       "      <th></th>\n",
       "      <th>text_type</th>\n",
       "      <th>text</th>\n",
       "    </tr>\n",
       "  </thead>\n",
       "  <tbody>\n",
       "    <tr>\n",
       "      <th>0</th>\n",
       "      <td>ham</td>\n",
       "      <td>make sure alex knows his birthday is over in fifteen minutes as far as youre concerned</td>\n",
       "    </tr>\n",
       "    <tr>\n",
       "      <th>1</th>\n",
       "      <td>ham</td>\n",
       "      <td>a resume for john lavorato thanks vince i will get moving on it right away molly vince j kaminski 02 21 2001 05 55 p...</td>\n",
       "    </tr>\n",
       "    <tr>\n",
       "      <th>2</th>\n",
       "      <td>spam</td>\n",
       "      <td>plzz visit my website moviesgodml to get all movies for free and also i provide direct download links no redirect an...</td>\n",
       "    </tr>\n",
       "    <tr>\n",
       "      <th>3</th>\n",
       "      <td>spam</td>\n",
       "      <td>urgent your mobile number has been awarded with a £2000 prize guaranteed call 09061790121 from land line claim 3030 ...</td>\n",
       "    </tr>\n",
       "    <tr>\n",
       "      <th>4</th>\n",
       "      <td>ham</td>\n",
       "      <td>overview of hr associates analyst project per david s request attached is an overview of the hr associates analysts ...</td>\n",
       "    </tr>\n",
       "  </tbody>\n",
       "</table>\n",
       "</div>"
      ],
      "text/plain": [
       "  text_type  \\\n",
       "0       ham   \n",
       "1       ham   \n",
       "2      spam   \n",
       "3      spam   \n",
       "4       ham   \n",
       "\n",
       "                                                                                                                      text  \n",
       "0                                   make sure alex knows his birthday is over in fifteen minutes as far as youre concerned  \n",
       "1  a resume for john lavorato thanks vince i will get moving on it right away molly vince j kaminski 02 21 2001 05 55 p...  \n",
       "2  plzz visit my website moviesgodml to get all movies for free and also i provide direct download links no redirect an...  \n",
       "3  urgent your mobile number has been awarded with a £2000 prize guaranteed call 09061790121 from land line claim 3030 ...  \n",
       "4  overview of hr associates analyst project per david s request attached is an overview of the hr associates analysts ...  "
      ]
     },
     "execution_count": 3,
     "metadata": {},
     "output_type": "execute_result"
    }
   ],
   "source": [
    "data.head()"
   ]
  },
  {
   "cell_type": "code",
   "execution_count": 51,
   "id": "19872528-0555-498c-901a-c7a5bcd09b1b",
   "metadata": {},
   "outputs": [
    {
     "name": "stdout",
     "output_type": "stream",
     "text": [
      "<class 'pandas.core.frame.DataFrame'>\n",
      "RangeIndex: 16278 entries, 0 to 16277\n",
      "Data columns (total 4 columns):\n",
      " #   Column       Non-Null Count  Dtype \n",
      "---  ------       --------------  ----- \n",
      " 0   text_type    16278 non-null  object\n",
      " 1   text         16278 non-null  object\n",
      " 2   count_punct  16278 non-null  object\n",
      " 3   len_text     16278 non-null  int64 \n",
      "dtypes: int64(1), object(3)\n",
      "memory usage: 508.8+ KB\n"
     ]
    }
   ],
   "source": [
    "data.info()"
   ]
  },
  {
   "cell_type": "code",
   "execution_count": 50,
   "id": "54953f6b-bae7-4fe5-8828-e6a36edba54e",
   "metadata": {},
   "outputs": [
    {
     "data": {
      "text/plain": [
       "text_type      0\n",
       "text           0\n",
       "count_punct    0\n",
       "len_text       0\n",
       "dtype: int64"
      ]
     },
     "execution_count": 50,
     "metadata": {},
     "output_type": "execute_result"
    }
   ],
   "source": [
    "data.isna().sum() # выведем количество пропущенных"
   ]
  },
  {
   "cell_type": "code",
   "execution_count": 6,
   "id": "d90de154-3cf5-4c01-9509-59c63347d3aa",
   "metadata": {},
   "outputs": [
    {
     "data": {
      "image/png": "[encoded data removed]",
      "text/plain": [
       "<Figure size 640x480 with 1 Axes>"
      ]
     },
     "metadata": {},
     "output_type": "display_data"
    }
   ],
   "source": [
    "sns.histplot(data=data, x=data['text_type'], color='red');"
   ]
  },
  {
   "cell_type": "code",
   "execution_count": 57,
   "id": "ed680cf8-fd25-4974-95e3-8e2c7f2fe70b",
   "metadata": {},
   "outputs": [],
   "source": [
    "data['count_punct'] = data['text'].apply(lambda x: np.sum([1 for i in x if i in string.punctuation]))\n",
    "\n",
    "pattern = '[0-9!#$%&()*+,./:;<=>?@[\\]^_`{|}~—/\"/\\-№]+'\n",
    "\n",
    "def processing(text):\n",
    "    '''\n",
    "    Обработаем текст сообщений\n",
    "    '''\n",
    "    text = text.lower()\n",
    "    \n",
    "    text = re.sub(pattern, ' ', text)\n",
    "    \n",
    "    ps = nltk.PorterStemmer()\n",
    "    text = ps.stem(text)\n",
    "\n",
    "    wl = nltk.WordNetLemmatizer()\n",
    "    text = wl.lemmatize(text)\n",
    "    \n",
    "    return text\n",
    "\n",
    "data['text'] = data['text'].apply(processing)\n",
    "data['len_text'] = data['text'].apply(lambda x: len(x) - x.count(' '))"
   ]
  },
  {
   "cell_type": "code",
   "execution_count": 58,
   "id": "ea89bf2a-c451-4655-aa5a-558fac09586c",
   "metadata": {},
   "outputs": [
    {
     "data": {
      "image/png": "[encoded data removed]",
      "text/plain": [
       "<Figure size 640x480 with 1 Axes>"
      ]
     },
     "metadata": {},
     "output_type": "display_data"
    }
   ],
   "source": [
    "sns.histplot(data=data, x='len_text', hue='text_type', bins=40);\n",
    "plt.xlim(0, 600);"
   ]
  },
  {
   "cell_type": "code",
   "execution_count": 59,
   "id": "d1e420ee-3a24-4a63-853c-734bdd88f6c2",
   "metadata": {},
   "outputs": [
    {
     "data": {
      "image/png": "[encoded data removed]",
      "text/plain": [
       "<Figure size 640x480 with 1 Axes>"
      ]
     },
     "metadata": {},
     "output_type": "display_data"
    }
   ],
   "source": [
    "sns.histplot(data=data, x='count_punct', hue='text_type', bins=37);\n",
    "plt.xlim(0, 15);"
   ]
  },
  {
   "cell_type": "code",
   "execution_count": 53,
   "id": "e2d86d70-eea6-4015-837b-a0f51bfcff49",
   "metadata": {},
   "outputs": [],
   "source": [
    "from sklearn.preprocessing import StandardScaler\n",
    "scaler = StandardScaler()\n",
    "data['count_punct'] = scaler.fit(pd.DataFrame(data['count_punct']))\n",
    "data['len_text'] = scaler.fit_transform(pd.DataFrame(data['len_text']))"
   ]
  },
  {
   "cell_type": "code",
   "execution_count": 35,
   "id": "42aa211f-f592-40bc-b633-ccb00ed3078c",
   "metadata": {},
   "outputs": [],
   "source": [
    "X_train, X_test, y_train, y_test = train_test_split(data['text'], \n",
    "                                                    data['text_type'], \n",
    "                                                    random_state=1, \n",
    "                                                    stratify=data['text_type'], \n",
    "                                                    test_size=0.3)"
   ]
  },
  {
   "cell_type": "code",
   "execution_count": 36,
   "id": "af614215-da82-4ffa-8432-ef2602d640dd",
   "metadata": {},
   "outputs": [],
   "source": [
    "stop_words = sw.words('english')\n",
    "tv_model = TfidfVectorizer(stop_words=stop_words, binary=True)"
   ]
  },
  {
   "cell_type": "code",
   "execution_count": 37,
   "id": "c5fd71cd-8b99-4835-8d7c-e5170f3f1cc2",
   "metadata": {},
   "outputs": [],
   "source": [
    "X_train_tv = tv_model.fit(X_train)\n",
    "X_train_tv = tv_model.transform(X_train)\n",
    "X_test_tv = tv_model.transform(X_test)"
   ]
  },
  {
   "cell_type": "code",
   "execution_count": 63,
   "id": "7f97a7e3-fec8-48cc-b068-ca0440f6570d",
   "metadata": {},
   "outputs": [],
   "source": [
    "from sklearn.naive_bayes import MultinomialNB\n",
    "nb = MultinomialNB()\n",
    "nb.fit(X_train_tv,y_train);\n",
    "\n",
    "from sklearn.linear_model import LogisticRegression\n",
    "log = LogisticRegression(max_iter=1000)\n",
    "log.fit(X_train_tv,y_train);\n",
    "\n",
    "from sklearn.svm import LinearSVC\n",
    "svc = LinearSVC()\n",
    "svc.fit(X_train_tv,y_train);\n",
    "\n",
    "from sklearn.ensemble import RandomForestClassifier\n",
    "rfc = RandomForestClassifier()\n",
    "rfc.fit(X_train_tv, y_train);"
   ]
  },
  {
   "cell_type": "code",
   "execution_count": 64,
   "id": "f85d4099-ce0f-4284-9727-45611f15acf3",
   "metadata": {},
   "outputs": [
    {
     "name": "stdout",
     "output_type": "stream",
     "text": [
      "SVC\n",
      "              precision    recall  f1-score   support\n",
      "\n",
      "         ham       0.95      0.97      0.96      3441\n",
      "        spam       0.92      0.88      0.90      1443\n",
      "\n",
      "    accuracy                           0.94      4884\n",
      "   macro avg       0.93      0.92      0.93      4884\n",
      "weighted avg       0.94      0.94      0.94      4884\n",
      "\n",
      "LOG\n",
      "              precision    recall  f1-score   support\n",
      "\n",
      "         ham       0.91      0.97      0.94      3441\n",
      "        spam       0.93      0.78      0.85      1443\n",
      "\n",
      "    accuracy                           0.92      4884\n",
      "   macro avg       0.92      0.88      0.90      4884\n",
      "weighted avg       0.92      0.92      0.92      4884\n",
      "\n",
      "NB\n",
      "              precision    recall  f1-score   support\n",
      "\n",
      "         ham       0.85      0.98      0.91      3441\n",
      "        spam       0.93      0.59      0.72      1443\n",
      "\n",
      "    accuracy                           0.86      4884\n",
      "   macro avg       0.89      0.78      0.81      4884\n",
      "weighted avg       0.87      0.86      0.85      4884\n",
      "\n",
      "RFC\n",
      "              precision    recall  f1-score   support\n",
      "\n",
      "         ham       0.92      0.99      0.96      3441\n",
      "        spam       0.97      0.81      0.88      1443\n",
      "\n",
      "    accuracy                           0.93      4884\n",
      "   macro avg       0.95      0.90      0.92      4884\n",
      "weighted avg       0.94      0.93      0.93      4884\n",
      "\n"
     ]
    }
   ],
   "source": [
    "from sklearn.metrics import classification_report, confusion_matrix\n",
    "def report(model):\n",
    "    preds = model.predict(X_test_tv)\n",
    "    print(classification_report(y_test,preds))\n",
    "    confusion_matrix(y_pred=preds,y_true=y_test)\n",
    "\n",
    "print('SVC')\n",
    "report(svc)\n",
    "\n",
    "print('LOG')\n",
    "report(log)\n",
    "\n",
    "print('NB')\n",
    "report(nb)\n",
    "\n",
    "print('RFC')\n",
    "report(rfc)"
   ]
  },
  {
   "cell_type": "code",
   "execution_count": null,
   "id": "2802ae0f-32ea-4aea-8125-e3bd64c6ed77",
   "metadata": {},
   "outputs": [],
   "source": []
  }
 ],
 "metadata": {
  "kernelspec": {
   "display_name": "Python 3 (ipykernel)",
   "language": "python",
   "name": "python3"
  },
  "language_info": {
   "codemirror_mode": {
    "name": "ipython",
    "version": 3
   },
   "file_extension": ".py",
   "mimetype": "text/x-python",
   "name": "python",
   "nbconvert_exporter": "python",
   "pygments_lexer": "ipython3",
   "version": "3.10.12"
  }
 },
 "nbformat": 4,
 "nbformat_minor": 5
}
